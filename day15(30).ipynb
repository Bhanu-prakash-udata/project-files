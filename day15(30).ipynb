{
 "cells": [
  {
   "cell_type": "markdown",
   "metadata": {},
   "source": [
    "### Dictionary\n",
    " - mutable\n",
    " - key,value-pair\n",
    " - key : any data types:int,float,str\n",
    " - vakues : any data type and any structure list/tuple/set/dict/str\n",
    " - kays are unique in nature\n",
    " - key,value together called as an item"
   ]
  },
  {
   "cell_type": "code",
   "execution_count": 2,
   "metadata": {},
   "outputs": [
    {
     "data": {
      "text/plain": [
       "{'key': 'value', 'string': 'name', 'integer': 12, 'float': 9.6, 123: 'int'}"
      ]
     },
     "execution_count": 2,
     "metadata": {},
     "output_type": "execute_result"
    }
   ],
   "source": [
    "dic={'key':'value','string':'name','integer':12,'float':9.6,123:'int'}\n",
    "dic"
   ]
  },
  {
   "cell_type": "code",
   "execution_count": 3,
   "metadata": {},
   "outputs": [
    {
     "data": {
      "text/plain": [
       "['__class__',\n",
       " '__contains__',\n",
       " '__delattr__',\n",
       " '__delitem__',\n",
       " '__dir__',\n",
       " '__doc__',\n",
       " '__eq__',\n",
       " '__format__',\n",
       " '__ge__',\n",
       " '__getattribute__',\n",
       " '__getitem__',\n",
       " '__gt__',\n",
       " '__hash__',\n",
       " '__init__',\n",
       " '__init_subclass__',\n",
       " '__iter__',\n",
       " '__le__',\n",
       " '__len__',\n",
       " '__lt__',\n",
       " '__ne__',\n",
       " '__new__',\n",
       " '__reduce__',\n",
       " '__reduce_ex__',\n",
       " '__repr__',\n",
       " '__reversed__',\n",
       " '__setattr__',\n",
       " '__setitem__',\n",
       " '__sizeof__',\n",
       " '__str__',\n",
       " '__subclasshook__',\n",
       " 'clear',\n",
       " 'copy',\n",
       " 'fromkeys',\n",
       " 'get',\n",
       " 'items',\n",
       " 'keys',\n",
       " 'pop',\n",
       " 'popitem',\n",
       " 'setdefault',\n",
       " 'update',\n",
       " 'values']"
      ]
     },
     "execution_count": 3,
     "metadata": {},
     "output_type": "execute_result"
    }
   ],
   "source": [
    "dir(dict)"
   ]
  },
  {
   "cell_type": "code",
   "execution_count": 4,
   "metadata": {},
   "outputs": [
    {
     "data": {
      "text/plain": [
       "{'key': 'value', 'string': 'name', 'integer': 12, 'float': 9.6, 123: 'int'}"
      ]
     },
     "execution_count": 4,
     "metadata": {},
     "output_type": "execute_result"
    }
   ],
   "source": [
    "dic1=dic.copy()\n",
    "dic1"
   ]
  },
  {
   "cell_type": "code",
   "execution_count": 5,
   "metadata": {},
   "outputs": [
    {
     "data": {
      "text/plain": [
       "{}"
      ]
     },
     "execution_count": 5,
     "metadata": {},
     "output_type": "execute_result"
    }
   ],
   "source": [
    "dic.clear()\n",
    "dic"
   ]
  },
  {
   "cell_type": "code",
   "execution_count": 6,
   "metadata": {},
   "outputs": [
    {
     "data": {
      "text/plain": [
       "'value'"
      ]
     },
     "execution_count": 6,
     "metadata": {},
     "output_type": "execute_result"
    }
   ],
   "source": [
    "dic1.get(\"key\")"
   ]
  },
  {
   "cell_type": "code",
   "execution_count": 8,
   "metadata": {},
   "outputs": [
    {
     "data": {
      "text/plain": [
       "{1: 1,\n",
       " 2: 4,\n",
       " 3: 9,\n",
       " 4: 16,\n",
       " 5: 25,\n",
       " 6: 36,\n",
       " 7: 49,\n",
       " 8: 64,\n",
       " 9: 81,\n",
       " 10: 100,\n",
       " 11: 121,\n",
       " 12: 144,\n",
       " 13: 169,\n",
       " 14: 196,\n",
       " 15: 225}"
      ]
     },
     "execution_count": 8,
     "metadata": {},
     "output_type": "execute_result"
    }
   ],
   "source": [
    "sqr={}\n",
    "for i in range(1,16):\n",
    "    sqr[i]=i**2\n",
    "sqr"
   ]
  },
  {
   "cell_type": "code",
   "execution_count": 11,
   "metadata": {},
   "outputs": [
    {
     "data": {
      "text/plain": [
       "{'A': 65, 'B': 66, 'C': 67, 'D': 68, 'E': 69, 'F': 70, 'G': 71, 'H': 72}"
      ]
     },
     "execution_count": 11,
     "metadata": {},
     "output_type": "execute_result"
    }
   ],
   "source": [
    "d={}\n",
    "value=65\n",
    "for i in range(8):\n",
    "    d[chr(value)]=value\n",
    "    value+=1\n",
    "d"
   ]
  },
  {
   "cell_type": "code",
   "execution_count": 21,
   "metadata": {},
   "outputs": [
    {
     "data": {
      "text/plain": [
       "{1: 3, 2: 2, 3: 2, 4: 5, 5: 1, 6: 1}"
      ]
     },
     "execution_count": 21,
     "metadata": {},
     "output_type": "execute_result"
    }
   ],
   "source": [
    "a=[1,2,3,2,1,3,4,4,4,4,4,5,6,1]\n",
    "d={}\n",
    "for i in a:\n",
    "    d[i]=a.count(i)\n",
    "d\n"
   ]
  },
  {
   "cell_type": "code",
   "execution_count": 23,
   "metadata": {},
   "outputs": [
    {
     "data": {
      "text/plain": [
       "{1: 3, 2: 2, 3: 2, 4: 5, 5: 1, 6: 1}"
      ]
     },
     "execution_count": 23,
     "metadata": {},
     "output_type": "execute_result"
    }
   ],
   "source": [
    "#using if\n",
    "a=[1,2,3,2,1,3,4,4,4,4,4,5,6,1]\n",
    "d={}\n",
    "for i in a:\n",
    "    if i not in d:\n",
    "        d[i]=1\n",
    "    else:\n",
    "        d[i]+=1\n",
    "d"
   ]
  },
  {
   "cell_type": "markdown",
   "metadata": {},
   "source": [
    "## packages and Modules"
   ]
  },
  {
   "cell_type": "code",
   "execution_count": 25,
   "metadata": {},
   "outputs": [
    {
     "name": "stdout",
     "output_type": "stream",
     "text": [
      "\n",
      "Please wait a moment while I gather a list of all available modules...\n",
      "\n"
     ]
    },
    {
     "name": "stderr",
     "output_type": "stream",
     "text": [
      "c:\\python\\python3.8.5\\lib\\site-packages\\IPython\\kernel\\__init__.py:12: ShimWarning: The `IPython.kernel` package has been deprecated since IPython 4.0.You should import from ipykernel or jupyter_client instead.\n",
      "  warn(\"The `IPython.kernel` package has been deprecated since IPython 4.0.\"\n",
      "c:\\python\\python3.8.5\\lib\\pkgutil.py:107: VisibleDeprecationWarning: zmq.eventloop.minitornado is deprecated in pyzmq 14.0 and will be removed.\n",
      "    Install tornado itself to use zmq with the tornado IOLoop.\n",
      "    \n",
      "  yield from walk_packages(path, info.name+'.', onerror)\n"
     ]
    },
    {
     "name": "stdout",
     "output_type": "stream",
     "text": [
      "IPython             bleach              mmapfile            subprocess\n",
      "__future__          builtins            mmsystem            sunau\n",
      "_abc                bz2                 modulefinder        symbol\n",
      "_ast                cProfile            msilib              sympyprinting\n",
      "_asyncio            calc                msvcrt              symtable\n",
      "_bisect             calendar            multiprocessing     sys\n",
      "_blake2             cffi                nbclient            sysconfig\n",
      "_bootlocale         cgi                 nbconvert           tabnanny\n",
      "_bz2                cgitb               nbformat            tarfile\n",
      "_cffi_backend       chunk               nest_asyncio        telnetlib\n",
      "_codecs             cmath               netbios             tempfile\n",
      "_codecs_cn          cmd                 netrc               terminado\n",
      "_codecs_hk          code                nntplib             test\n",
      "_codecs_iso2022     codecs              notebook            testpath\n",
      "_codecs_jp          codeop              nt                  tests\n",
      "_codecs_kr          collections         ntpath              textwrap\n",
      "_codecs_tw          colorama            ntsecuritycon       this\n",
      "_collections        colorsys            nturl2path          threading\n",
      "_collections_abc    commctrl            numbers             time\n",
      "_compat_pickle      compileall          numpy               timeit\n",
      "_compression        concurrent          odbc                timer\n",
      "_contextvars        configparser        opcode              tkinter\n",
      "_csv                contextlib          operator            token\n",
      "_ctypes             contextvars         optparse            tokenize\n",
      "_ctypes_test        copy                os                  tornado\n",
      "_datetime           copyreg             packaging           trace\n",
      "_decimal            crypt               pandocfilters       traceback\n",
      "_dummy_thread       csv                 parser              tracemalloc\n",
      "_elementtree        ctypes              parso               traitlets\n",
      "_functools          curses              pathlib             tty\n",
      "_hashlib            cythonmagic         pdb                 turtle\n",
      "_heapq              dataclasses         perfmon             turtledemo\n",
      "_imp                datetime            pickle              types\n",
      "_io                 dateutil            pickleshare         typing\n",
      "_json               dbi                 pickletools         unicodedata\n",
      "_locale             dbm                 pip                 unittest\n",
      "_lsprof             dde                 pipes               urllib\n",
      "_lzma               decimal             pkg_resources       uu\n",
      "_markupbase         decorator           pkgutil             uuid\n",
      "_md5                defusedxml          platform            venv\n",
      "_msi                difflib             plistlib            warnings\n",
      "_multibytecodec     dis                 poplib              wave\n",
      "_multiprocessing    distutils           posixpath           wcwidth\n",
      "_opcode             doctest             pprint              weakref\n",
      "_operator           dummy_threading     profile             webbrowser\n",
      "_osx_support        easy_install        prometheus_client   webencodings\n",
      "_overlapped         email               prompt_toolkit      widgetsnbextension\n",
      "_pickle             encodings           pstats              win2kras\n",
      "_py_abc             ensurepip           pty                 win32api\n",
      "_pydecimal          entrypoints         py_compile          win32clipboard\n",
      "_pyio               enum                pyclbr              win32com\n",
      "_pyrsistent_version errno               pycparser           win32con\n",
      "_queue              faulthandler        pydoc               win32console\n",
      "_random             filecmp             pydoc_data          win32cred\n",
      "_sha1               fileinput           pyexpat             win32crypt\n",
      "_sha256             fnmatch             pygments            win32cryptcon\n",
      "_sha3               formatter           pyparsing           win32event\n",
      "_sha512             fractions           pyrsistent          win32evtlog\n",
      "_signal             ftplib              pythoncom           win32evtlogutil\n",
      "_sitebuiltins       functools           pywin               win32file\n",
      "_socket             gc                  pywin32_bootstrap   win32gui\n",
      "_sqlite3            genericpath         pywin32_testutil    win32gui_struct\n",
      "_sre                getopt              pywintypes          win32help\n",
      "_ssl                getpass             qtconsole           win32inet\n",
      "_stat               gettext             qtpy                win32inetcon\n",
      "_statistics         glob                queue               win32job\n",
      "_string             gzip                quopri              win32lz\n",
      "_strptime           hashlib             random              win32net\n",
      "_struct             heapq               rasutil             win32netcon\n",
      "_symtable           hmac                re                  win32pdh\n",
      "_testbuffer         html                regcheck            win32pdhquery\n",
      "_testcapi           http                regutil             win32pdhutil\n",
      "_testconsole        idlelib             reprlib             win32pipe\n",
      "_testimportmultiple imaplib             rlcompleter         win32print\n",
      "_testmultiphase     imghdr              rmagic              win32process\n",
      "_thread             imp                 runpy               win32profile\n",
      "_threading_local    importlib           sample              win32ras\n",
      "_tkinter            inspect             sample1             win32rcparser\n",
      "_tracemalloc        io                  sched               win32security\n",
      "_warnings           ipaddress           secrets             win32service\n",
      "_weakref            ipykernel           select              win32serviceutil\n",
      "_weakrefset         ipykernel_launcher  selectors           win32timezone\n",
      "_win32sysloader     ipython_genutils    send2trash          win32trace\n",
      "_winapi             ipywidgets          servicemanager      win32traceutil\n",
      "_winxptheme         isapi               setuptools          win32transaction\n",
      "_xxsubinterpreters  itertools           shelve              win32ts\n",
      "abc                 jedi                shlex               win32ui\n",
      "adodbapi            jinja2              shutil              win32uiole\n",
      "afxres              json                signal              win32verstamp\n",
      "aifc                jsonschema          site                win32wnet\n",
      "antigravity         jupyter             six                 winerror\n",
      "argon2              jupyter_client      smtpd               winioctlcon\n",
      "argparse            jupyter_console     smtplib             winnt\n",
      "array               jupyter_core        sndhdr              winperf\n",
      "ast                 jupyterlab_pygments socket              winpty\n",
      "async_generator     keyword             socketserver        winreg\n",
      "asynchat            lib2to3             sqlite3             winsound\n",
      "asyncio             linecache           sre_compile         winxpgui\n",
      "asyncore            locale              sre_constants       winxptheme\n",
      "atexit              logging             sre_parse           wsgiref\n",
      "attr                lzma                ssl                 xdrlib\n",
      "audioop             mailbox             sspi                xml\n",
      "autoreload          mailcap             sspicon             xmlrpc\n",
      "backcall            markupsafe          stat                xxsubtype\n",
      "base64              marshal             statistics          zipapp\n",
      "bdb                 math                storemagic          zipfile\n",
      "binascii            mimetypes           string              zipimport\n",
      "binhex              mistune             stringprep          zlib\n",
      "bisect              mmap                struct              zmq\n",
      "\n",
      "Enter any module name to get more help.  Or, type \"modules spam\" to search\n",
      "for modules whose name or summary contain the string \"spam\".\n",
      "\n"
     ]
    }
   ],
   "source": [
    "help('modules')"
   ]
  },
  {
   "cell_type": "code",
   "execution_count": 26,
   "metadata": {},
   "outputs": [],
   "source": [
    "import math"
   ]
  },
  {
   "cell_type": "code",
   "execution_count": 27,
   "metadata": {},
   "outputs": [
    {
     "name": "stdout",
     "output_type": "stream",
     "text": [
      "Help on built-in module math:\n",
      "\n",
      "NAME\n",
      "    math\n",
      "\n",
      "DESCRIPTION\n",
      "    This module provides access to the mathematical functions\n",
      "    defined by the C standard.\n",
      "\n",
      "FUNCTIONS\n",
      "    acos(x, /)\n",
      "        Return the arc cosine (measured in radians) of x.\n",
      "    \n",
      "    acosh(x, /)\n",
      "        Return the inverse hyperbolic cosine of x.\n",
      "    \n",
      "    asin(x, /)\n",
      "        Return the arc sine (measured in radians) of x.\n",
      "    \n",
      "    asinh(x, /)\n",
      "        Return the inverse hyperbolic sine of x.\n",
      "    \n",
      "    atan(x, /)\n",
      "        Return the arc tangent (measured in radians) of x.\n",
      "    \n",
      "    atan2(y, x, /)\n",
      "        Return the arc tangent (measured in radians) of y/x.\n",
      "        \n",
      "        Unlike atan(y/x), the signs of both x and y are considered.\n",
      "    \n",
      "    atanh(x, /)\n",
      "        Return the inverse hyperbolic tangent of x.\n",
      "    \n",
      "    ceil(x, /)\n",
      "        Return the ceiling of x as an Integral.\n",
      "        \n",
      "        This is the smallest integer >= x.\n",
      "    \n",
      "    comb(n, k, /)\n",
      "        Number of ways to choose k items from n items without repetition and without order.\n",
      "        \n",
      "        Evaluates to n! / (k! * (n - k)!) when k <= n and evaluates\n",
      "        to zero when k > n.\n",
      "        \n",
      "        Also called the binomial coefficient because it is equivalent\n",
      "        to the coefficient of k-th term in polynomial expansion of the\n",
      "        expression (1 + x)**n.\n",
      "        \n",
      "        Raises TypeError if either of the arguments are not integers.\n",
      "        Raises ValueError if either of the arguments are negative.\n",
      "    \n",
      "    copysign(x, y, /)\n",
      "        Return a float with the magnitude (absolute value) of x but the sign of y.\n",
      "        \n",
      "        On platforms that support signed zeros, copysign(1.0, -0.0)\n",
      "        returns -1.0.\n",
      "    \n",
      "    cos(x, /)\n",
      "        Return the cosine of x (measured in radians).\n",
      "    \n",
      "    cosh(x, /)\n",
      "        Return the hyperbolic cosine of x.\n",
      "    \n",
      "    degrees(x, /)\n",
      "        Convert angle x from radians to degrees.\n",
      "    \n",
      "    dist(p, q, /)\n",
      "        Return the Euclidean distance between two points p and q.\n",
      "        \n",
      "        The points should be specified as sequences (or iterables) of\n",
      "        coordinates.  Both inputs must have the same dimension.\n",
      "        \n",
      "        Roughly equivalent to:\n",
      "            sqrt(sum((px - qx) ** 2.0 for px, qx in zip(p, q)))\n",
      "    \n",
      "    erf(x, /)\n",
      "        Error function at x.\n",
      "    \n",
      "    erfc(x, /)\n",
      "        Complementary error function at x.\n",
      "    \n",
      "    exp(x, /)\n",
      "        Return e raised to the power of x.\n",
      "    \n",
      "    expm1(x, /)\n",
      "        Return exp(x)-1.\n",
      "        \n",
      "        This function avoids the loss of precision involved in the direct evaluation of exp(x)-1 for small x.\n",
      "    \n",
      "    fabs(x, /)\n",
      "        Return the absolute value of the float x.\n",
      "    \n",
      "    factorial(x, /)\n",
      "        Find x!.\n",
      "        \n",
      "        Raise a ValueError if x is negative or non-integral.\n",
      "    \n",
      "    floor(x, /)\n",
      "        Return the floor of x as an Integral.\n",
      "        \n",
      "        This is the largest integer <= x.\n",
      "    \n",
      "    fmod(x, y, /)\n",
      "        Return fmod(x, y), according to platform C.\n",
      "        \n",
      "        x % y may differ.\n",
      "    \n",
      "    frexp(x, /)\n",
      "        Return the mantissa and exponent of x, as pair (m, e).\n",
      "        \n",
      "        m is a float and e is an int, such that x = m * 2.**e.\n",
      "        If x is 0, m and e are both 0.  Else 0.5 <= abs(m) < 1.0.\n",
      "    \n",
      "    fsum(seq, /)\n",
      "        Return an accurate floating point sum of values in the iterable seq.\n",
      "        \n",
      "        Assumes IEEE-754 floating point arithmetic.\n",
      "    \n",
      "    gamma(x, /)\n",
      "        Gamma function at x.\n",
      "    \n",
      "    gcd(x, y, /)\n",
      "        greatest common divisor of x and y\n",
      "    \n",
      "    hypot(...)\n",
      "        hypot(*coordinates) -> value\n",
      "        \n",
      "        Multidimensional Euclidean distance from the origin to a point.\n",
      "        \n",
      "        Roughly equivalent to:\n",
      "            sqrt(sum(x**2 for x in coordinates))\n",
      "        \n",
      "        For a two dimensional point (x, y), gives the hypotenuse\n",
      "        using the Pythagorean theorem:  sqrt(x*x + y*y).\n",
      "        \n",
      "        For example, the hypotenuse of a 3/4/5 right triangle is:\n",
      "        \n",
      "            >>> hypot(3.0, 4.0)\n",
      "            5.0\n",
      "    \n",
      "    isclose(a, b, *, rel_tol=1e-09, abs_tol=0.0)\n",
      "        Determine whether two floating point numbers are close in value.\n",
      "        \n",
      "          rel_tol\n",
      "            maximum difference for being considered \"close\", relative to the\n",
      "            magnitude of the input values\n",
      "          abs_tol\n",
      "            maximum difference for being considered \"close\", regardless of the\n",
      "            magnitude of the input values\n",
      "        \n",
      "        Return True if a is close in value to b, and False otherwise.\n",
      "        \n",
      "        For the values to be considered close, the difference between them\n",
      "        must be smaller than at least one of the tolerances.\n",
      "        \n",
      "        -inf, inf and NaN behave similarly to the IEEE 754 Standard.  That\n",
      "        is, NaN is not close to anything, even itself.  inf and -inf are\n",
      "        only close to themselves.\n",
      "    \n",
      "    isfinite(x, /)\n",
      "        Return True if x is neither an infinity nor a NaN, and False otherwise.\n",
      "    \n",
      "    isinf(x, /)\n",
      "        Return True if x is a positive or negative infinity, and False otherwise.\n",
      "    \n",
      "    isnan(x, /)\n",
      "        Return True if x is a NaN (not a number), and False otherwise.\n",
      "    \n",
      "    isqrt(n, /)\n",
      "        Return the integer part of the square root of the input.\n",
      "    \n",
      "    ldexp(x, i, /)\n",
      "        Return x * (2**i).\n",
      "        \n",
      "        This is essentially the inverse of frexp().\n",
      "    \n",
      "    lgamma(x, /)\n",
      "        Natural logarithm of absolute value of Gamma function at x.\n",
      "    \n",
      "    log(...)\n",
      "        log(x, [base=math.e])\n",
      "        Return the logarithm of x to the given base.\n",
      "        \n",
      "        If the base not specified, returns the natural logarithm (base e) of x.\n",
      "    \n",
      "    log10(x, /)\n",
      "        Return the base 10 logarithm of x.\n",
      "    \n",
      "    log1p(x, /)\n",
      "        Return the natural logarithm of 1+x (base e).\n",
      "        \n",
      "        The result is computed in a way which is accurate for x near zero.\n",
      "    \n",
      "    log2(x, /)\n",
      "        Return the base 2 logarithm of x.\n",
      "    \n",
      "    modf(x, /)\n",
      "        Return the fractional and integer parts of x.\n",
      "        \n",
      "        Both results carry the sign of x and are floats.\n",
      "    \n",
      "    perm(n, k=None, /)\n",
      "        Number of ways to choose k items from n items without repetition and with order.\n",
      "        \n",
      "        Evaluates to n! / (n - k)! when k <= n and evaluates\n",
      "        to zero when k > n.\n",
      "        \n",
      "        If k is not specified or is None, then k defaults to n\n",
      "        and the function returns n!.\n",
      "        \n",
      "        Raises TypeError if either of the arguments are not integers.\n",
      "        Raises ValueError if either of the arguments are negative.\n",
      "    \n",
      "    pow(x, y, /)\n",
      "        Return x**y (x to the power of y).\n",
      "    \n",
      "    prod(iterable, /, *, start=1)\n",
      "        Calculate the product of all the elements in the input iterable.\n",
      "        \n",
      "        The default start value for the product is 1.\n",
      "        \n",
      "        When the iterable is empty, return the start value.  This function is\n",
      "        intended specifically for use with numeric values and may reject\n",
      "        non-numeric types.\n",
      "    \n",
      "    radians(x, /)\n",
      "        Convert angle x from degrees to radians.\n",
      "    \n",
      "    remainder(x, y, /)\n",
      "        Difference between x and the closest integer multiple of y.\n",
      "        \n",
      "        Return x - n*y where n*y is the closest integer multiple of y.\n",
      "        In the case where x is exactly halfway between two multiples of\n",
      "        y, the nearest even value of n is used. The result is always exact.\n",
      "    \n",
      "    sin(x, /)\n",
      "        Return the sine of x (measured in radians).\n",
      "    \n",
      "    sinh(x, /)\n",
      "        Return the hyperbolic sine of x.\n",
      "    \n",
      "    sqrt(x, /)\n",
      "        Return the square root of x.\n",
      "    \n",
      "    tan(x, /)\n",
      "        Return the tangent of x (measured in radians).\n",
      "    \n",
      "    tanh(x, /)\n",
      "        Return the hyperbolic tangent of x.\n",
      "    \n",
      "    trunc(x, /)\n",
      "        Truncates the Real x to the nearest Integral toward 0.\n",
      "        \n",
      "        Uses the __trunc__ magic method.\n",
      "\n",
      "DATA\n",
      "    e = 2.718281828459045\n",
      "    inf = inf\n",
      "    nan = nan\n",
      "    pi = 3.141592653589793\n",
      "    tau = 6.283185307179586\n",
      "\n",
      "FILE\n",
      "    (built-in)\n",
      "\n",
      "\n"
     ]
    }
   ],
   "source": [
    "help(math)"
   ]
  },
  {
   "cell_type": "code",
   "execution_count": 28,
   "metadata": {},
   "outputs": [
    {
     "name": "stdout",
     "output_type": "stream",
     "text": [
      "Package             Version\n",
      "------------------- -------\n",
      "argon2-cffi         20.1.0\n",
      "async-generator     1.10\n",
      "attrs               20.2.0\n",
      "backcall            0.2.0\n",
      "bleach              3.1.5\n",
      "cffi                1.14.2\n",
      "colorama            0.4.3\n",
      "decorator           4.4.2\n",
      "defusedxml          0.6.0Note: you may need to restart the kernel to use updated packages.\n",
      "entrypoints         0.3\n",
      "ipykernel           5.3.4\n",
      "ipython             7.18.1\n",
      "ipython-genutils    0.2.0\n",
      "ipywidgets          7.5.1\n",
      "jedi                0.17.2\n",
      "Jinja2              2.11.2\n",
      "jsonschema          3.2.0\n",
      "jupyter             1.0.0\n",
      "jupyter-client      6.1.7\n",
      "jupyter-console     6.2.0\n",
      "jupyter-core        4.6.3\n",
      "jupyterlab-pygments 0.1.1\n",
      "MarkupSafe          1.1.1\n",
      "mistune             0.8.4\n",
      "nbclient            0.5.0\n",
      "nbconvert           6.0.2\n",
      "nbformat            5.0.7\n",
      "nest-asyncio        1.4.0\n",
      "notebook            6.1.4\n",
      "numpy               1.19.1\n",
      "packaging           20.4\n",
      "pandocfilters       1.4.2\n",
      "parso               0.7.1\n",
      "pickleshare         0.7.5\n",
      "pip                 20.1.1\n",
      "prometheus-client   0.8.0\n",
      "prompt-toolkit      3.0.7\n",
      "pycparser           2.20\n",
      "Pygments            2.7.0\n",
      "\n"
     ]
    },
    {
     "name": "stderr",
     "output_type": "stream",
     "text": [
      "WARNING: You are using pip version 20.1.1; however, version 20.2.3 is available.\n",
      "You should consider upgrading via the 'c:\\python\\python3.8.5\\python.exe -m pip install --upgrade pip' command.\n"
     ]
    },
    {
     "name": "stdout",
     "output_type": "stream",
     "text": [
      "pyparsing           2.4.7\n",
      "pyrsistent          0.17.3\n",
      "python-dateutil     2.8.1\n",
      "pywin32             228\n",
      "pywinpty            0.5.7\n",
      "pyzmq               19.0.2\n",
      "qtconsole           4.7.7\n",
      "QtPy                1.9.0\n",
      "Send2Trash          1.5.0\n",
      "setuptools          47.1.0\n",
      "six                 1.15.0\n",
      "terminado           0.8.3\n",
      "testpath            0.4.4\n",
      "tornado             6.0.4\n",
      "traitlets           5.0.4\n",
      "wcwidth             0.2.5\n",
      "webencodings        0.5.1\n",
      "widgetsnbextension  3.5.1\n"
     ]
    }
   ],
   "source": [
    "pip list"
   ]
  },
  {
   "cell_type": "code",
   "execution_count": 29,
   "metadata": {},
   "outputs": [],
   "source": [
    "import module"
   ]
  },
  {
   "cell_type": "code",
   "execution_count": 30,
   "metadata": {},
   "outputs": [
    {
     "name": "stdout",
     "output_type": "stream",
     "text": [
      "Help on module module:\n",
      "\n",
      "NAME\n",
      "    module\n",
      "\n",
      "FUNCTIONS\n",
      "    greeting(name)\n",
      "\n",
      "FILE\n",
      "    c:\\users\\hp\\desktop\\polytechnic internship\\python practice\\module.py\n",
      "\n",
      "\n"
     ]
    }
   ],
   "source": [
    "help(module)"
   ]
  },
  {
   "cell_type": "code",
   "execution_count": 31,
   "metadata": {},
   "outputs": [
    {
     "name": "stdout",
     "output_type": "stream",
     "text": [
      "hellobhanu\n"
     ]
    }
   ],
   "source": [
    "module.greeting(\"bhanu\")"
   ]
  },
  {
   "cell_type": "code",
   "execution_count": 32,
   "metadata": {},
   "outputs": [],
   "source": [
    "from package import apssdc"
   ]
  },
  {
   "cell_type": "code",
   "execution_count": 36,
   "metadata": {},
   "outputs": [
    {
     "name": "stdout",
     "output_type": "stream",
     "text": [
      "Help on module package.apssdc in package:\n",
      "\n",
      "NAME\n",
      "    package.apssdc\n",
      "\n",
      "FUNCTIONS\n",
      "    even(a)\n",
      "    \n",
      "    largest(a, b)\n",
      "\n",
      "FILE\n",
      "    c:\\users\\hp\\desktop\\polytechnic internship\\python practice\\package\\apssdc.py\n",
      "\n",
      "\n"
     ]
    }
   ],
   "source": [
    "help(apssdc)"
   ]
  },
  {
   "cell_type": "code",
   "execution_count": 35,
   "metadata": {},
   "outputs": [
    {
     "name": "stdout",
     "output_type": "stream",
     "text": [
      "even\n"
     ]
    }
   ],
   "source": [
    "apssdc.even(10)"
   ]
  },
  {
   "cell_type": "code",
   "execution_count": 37,
   "metadata": {},
   "outputs": [
    {
     "name": "stdout",
     "output_type": "stream",
     "text": [
      "20\n"
     ]
    }
   ],
   "source": [
    "apssdc.largest(10,20)"
   ]
  },
  {
   "cell_type": "code",
   "execution_count": null,
   "metadata": {},
   "outputs": [],
   "source": []
  }
 ],
 "metadata": {
  "kernelspec": {
   "display_name": "Python 3",
   "language": "python",
   "name": "python3"
  },
  "language_info": {
   "codemirror_mode": {
    "name": "ipython",
    "version": 3
   },
   "file_extension": ".py",
   "mimetype": "text/x-python",
   "name": "python",
   "nbconvert_exporter": "python",
   "pygments_lexer": "ipython3",
   "version": "3.8.5"
  }
 },
 "nbformat": 4,
 "nbformat_minor": 4
}
