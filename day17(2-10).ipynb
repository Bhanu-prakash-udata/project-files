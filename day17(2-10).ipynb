{
 "cells": [
  {
   "cell_type": "code",
   "execution_count": 13,
   "metadata": {},
   "outputs": [
    {
     "name": "stdout",
     "output_type": "stream",
     "text": [
      "enter a number123\n",
      "sum is 6\n"
     ]
    }
   ],
   "source": [
    "a=int(input(\"enter a number\"))\n",
    "s=0\n",
    "while(a>0):\n",
    "    r=a%10\n",
    "    s=s+r\n",
    "    a=a//10\n",
    "print(\"sum is\",s)"
   ]
  },
  {
   "cell_type": "code",
   "execution_count": 28,
   "metadata": {},
   "outputs": [
    {
     "name": "stdout",
     "output_type": "stream",
     "text": [
      "enter a number642\n",
      "the digits in a given number is 3\n"
     ]
    }
   ],
   "source": [
    "#no of digits in string\n",
    "s=input(\"enter a number\")\n",
    "c=len(s)\n",
    "print(\"the digits in a given number is\",c)"
   ]
  },
  {
   "cell_type": "code",
   "execution_count": 32,
   "metadata": {},
   "outputs": [
    {
     "name": "stdout",
     "output_type": "stream",
     "text": [
      "enter a number123\n",
      "3\n"
     ]
    }
   ],
   "source": [
    "a=input(\"enter a number\")\n",
    "n=int(a)\n",
    "s=0\n",
    "while(n>0):\n",
    "    r=n%10\n",
    "    s=s+1\n",
    "    n=n//10\n",
    "print(s)"
   ]
  },
  {
   "cell_type": "code",
   "execution_count": 36,
   "metadata": {},
   "outputs": [
    {
     "name": "stdout",
     "output_type": "stream",
     "text": [
      "enter a number123\n",
      "not palendrom\n"
     ]
    }
   ],
   "source": [
    "#given number is palendrom are not\n",
    "a=int(input(\"enter a number\"))\n",
    "c=a\n",
    "s=0\n",
    "while(a>0):\n",
    "    r=a%10\n",
    "    s=s*10+r\n",
    "    a=a//10\n",
    "if(s==c):\n",
    "    print(\"given number\",c,\"is palendrom\")\n",
    "else:\n",
    "    print(\"not palendrom\")"
   ]
  },
  {
   "cell_type": "code",
   "execution_count": 48,
   "metadata": {},
   "outputs": [
    {
     "name": "stdout",
     "output_type": "stream",
     "text": [
      "enter a number31211996\n",
      "sum is: 32\n",
      "lucky number is: 5\n"
     ]
    }
   ],
   "source": [
    "#sum the given digits upto get single digit\n",
    "n=int(input(\"enter a number\"))\n",
    "s=0\n",
    "c=0\n",
    "while(n>0):\n",
    "    r=n%10\n",
    "    s=s+r\n",
    "    n=n//10\n",
    "print(\"sum is:\",s)\n",
    "while(s>0):\n",
    "    d=s%10\n",
    "    c=c+d\n",
    "    s=s//10\n",
    "print(\"lucky number is:\",c)"
   ]
  },
  {
   "cell_type": "code",
   "execution_count": 60,
   "metadata": {},
   "outputs": [
    {
     "name": "stdout",
     "output_type": "stream",
     "text": [
      "enter a number123\n",
      "not amstrong\n"
     ]
    }
   ],
   "source": [
    "#to find given number is amstrong are not\n",
    "a=int(input(\"enter a number\"))\n",
    "n=a\n",
    "temp=a\n",
    "s=0\n",
    "c=0\n",
    "while(n>0):\n",
    "    r=n%10\n",
    "    s=s+1\n",
    "    n=n//10\n",
    "while(a>0):\n",
    "    d=a%10\n",
    "    c=c+d**s\n",
    "    a=a//10\n",
    "if(c==temp):\n",
    "    print(\"amstrong\")\n",
    "else:\n",
    "    print(\"not amstrong\")\n",
    "        "
   ]
  },
  {
   "cell_type": "code",
   "execution_count": null,
   "metadata": {},
   "outputs": [],
   "source": []
  }
 ],
 "metadata": {
  "kernelspec": {
   "display_name": "Python 3",
   "language": "python",
   "name": "python3"
  },
  "language_info": {
   "codemirror_mode": {
    "name": "ipython",
    "version": 3
   },
   "file_extension": ".py",
   "mimetype": "text/x-python",
   "name": "python",
   "nbconvert_exporter": "python",
   "pygments_lexer": "ipython3",
   "version": "3.8.5"
  }
 },
 "nbformat": 4,
 "nbformat_minor": 4
}
