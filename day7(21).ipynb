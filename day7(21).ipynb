{
 "cells": [
  {
   "cell_type": "markdown",
   "metadata": {},
   "source": [
    "## functions\n",
    "   - it is set of statements\n",
    "   - used to perform a particular task (or) it performs specific task\n",
    "   - reuse the code (or) we can use same function many times\n",
    "   - we can pass arguments and we can return results\n",
    "   - we have 2 diff types\n",
    "       - userdefined functions\n",
    "       - predefined or library or bulitin functions\n",
    "### user defined functions:\n",
    "    - user can define his own functionality\n",
    "    - syntax: def function_name(param1,param2,..,):\n",
    "                  #body of the loop\n",
    "   - In UD we have 4 diff types:\n",
    "      - no arguments and no return value\n",
    "      - no arguments and a return value\n",
    "      - with arguments and no return value\n",
    "      - with arguments and a return value\n",
    "    "
   ]
  },
  {
   "cell_type": "code",
   "execution_count": 1,
   "metadata": {},
   "outputs": [],
   "source": [
    "def hello():\n",
    "    print('hi, iam from hello()')"
   ]
  },
  {
   "cell_type": "code",
   "execution_count": 2,
   "metadata": {},
   "outputs": [
    {
     "name": "stdout",
     "output_type": "stream",
     "text": [
      "hi, iam from hello()\n"
     ]
    }
   ],
   "source": [
    "hello()"
   ]
  },
  {
   "cell_type": "code",
   "execution_count": 3,
   "metadata": {},
   "outputs": [],
   "source": [
    "# no arguments and a return value\n",
    "def hello1():\n",
    "    return 'i am hello1'"
   ]
  },
  {
   "cell_type": "code",
   "execution_count": 4,
   "metadata": {},
   "outputs": [
    {
     "data": {
      "text/plain": [
       "'i am hello1'"
      ]
     },
     "execution_count": 4,
     "metadata": {},
     "output_type": "execute_result"
    }
   ],
   "source": [
    "hello1()"
   ]
  },
  {
   "cell_type": "code",
   "execution_count": 5,
   "metadata": {},
   "outputs": [],
   "source": [
    "#with arguments and no return value\n",
    "def add(n1,n2):\n",
    "    print('sum of n1 and n2 is:',n1+n2)"
   ]
  },
  {
   "cell_type": "code",
   "execution_count": 7,
   "metadata": {},
   "outputs": [
    {
     "name": "stdout",
     "output_type": "stream",
     "text": [
      "sum of n1 and n2 is: 100\n"
     ]
    }
   ],
   "source": [
    "a,b=45,55\n",
    "add(a,b)"
   ]
  },
  {
   "cell_type": "code",
   "execution_count": 8,
   "metadata": {},
   "outputs": [],
   "source": [
    "#with arguments and a return value\n",
    "def mul(x1,x2):\n",
    "    return x1*x2"
   ]
  },
  {
   "cell_type": "code",
   "execution_count": 11,
   "metadata": {},
   "outputs": [
    {
     "name": "stdout",
     "output_type": "stream",
     "text": [
      "mul of n1 and n2 is: 20\n"
     ]
    }
   ],
   "source": [
    "n1,n2=5,4\n",
    "rs=mul(n1,n2)\n",
    "print('mul of n1 and n2 is:',rs)"
   ]
  },
  {
   "cell_type": "code",
   "execution_count": 28,
   "metadata": {},
   "outputs": [],
   "source": [
    "def sub(a,b):\n",
    "    return a-b\n",
    "def mod(a,b):\n",
    "    return a%b\n",
    "def div(a,b):\n",
    "    return a/b\n",
    "def floor(a,b):\n",
    "    return a//b\n",
    "def exp(a,b):\n",
    "    return a^b"
   ]
  },
  {
   "cell_type": "code",
   "execution_count": 29,
   "metadata": {},
   "outputs": [
    {
     "name": "stdout",
     "output_type": "stream",
     "text": [
      "1\n",
      "2\n",
      "sub of n1 and n2 is: -1\n",
      "mod of n1 and n2 is: 1\n",
      "div of n1 and n2 is: 0.5\n",
      "floor of n1 and n2 is: 0\n",
      "exp of n1 and n2 is: 3\n"
     ]
    }
   ],
   "source": [
    "n1=int(input())\n",
    "n2=int(input())\n",
    "rs1=sub(n1,n2)\n",
    "print('sub of n1 and n2 is:',rs1)\n",
    "rs2=mod(n1,n2)\n",
    "print('mod of n1 and n2 is:',rs2)\n",
    "rs3=div(n1,n2)\n",
    "print('div of n1 and n2 is:',rs3)\n",
    "rs4=floor(n1,n2)\n",
    "print('floor of n1 and n2 is:',rs4)\n",
    "rs5=exp(n1,n2)\n",
    "print('exp of n1 and n2 is:',rs5)\n"
   ]
  },
  {
   "cell_type": "code",
   "execution_count": null,
   "metadata": {},
   "outputs": [],
   "source": []
  }
 ],
 "metadata": {
  "kernelspec": {
   "display_name": "Python 3",
   "language": "python",
   "name": "python3"
  },
  "language_info": {
   "codemirror_mode": {
    "name": "ipython",
    "version": 3
   },
   "file_extension": ".py",
   "mimetype": "text/x-python",
   "name": "python",
   "nbconvert_exporter": "python",
   "pygments_lexer": "ipython3",
   "version": "3.8.5"
  }
 },
 "nbformat": 4,
 "nbformat_minor": 4
}
